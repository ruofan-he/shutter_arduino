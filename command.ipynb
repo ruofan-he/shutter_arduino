{
 "cells": [
  {
   "cell_type": "code",
   "execution_count": null,
   "metadata": {},
   "outputs": [],
   "source": [
    "import serial\n",
    "from time import sleep\n",
    "\n",
    "ser = serial.Serial()\n",
    "ser.port = \"COM4\"\n",
    "ser.baudrate = 9600\n",
    "ser.setDTR(False)     #DTRを常にLOWにしReset阻止\n",
    "ser.timeout = 3\n",
    "ser.open()"
   ]
  },
  {
   "cell_type": "markdown",
   "metadata": {},
   "source": [
    "## ライフサイクル\n",
    "シャッターコントローラー使用時において、各チャネルの制御において2つのモードが存在しており、各サーボは個別に異なるモードを取ることが可能であることを念頭に置く必要がある。\n",
    "- スイッチ同期モード\n",
    "- 外部制御モード\n",
    "\n",
    "\n",
    "シャッターコントローラー基板電源投入時、各サーボはそれぞれスイッチ同期モードである。\n",
    "PCからの指令によって外部からの介入があると、そのサーボは外部制御モードになる。このとき物理的なスイッチとサーボの状態が異なる状況が発生する。\n",
    "この状態からスイッチ同期モードに移行するためには、当該サーボのスイッチを操作するか、PCから当該サーボに対してスイッチ同期モードに移行を指示する`set_switch_mode`命令を出すと良い。"
   ]
  },
  {
   "cell_type": "markdown",
   "metadata": {},
   "source": [
    "## 命令の構文\n",
    "``\n",
    "sentence1;sentence2;....\\n\n",
    "``\n",
    "\n",
    "上のように命令文は`;`で連結できる。ただし連結するメリットもそんなに思いつかないし、命令後読み出しの調整も面倒だ。したがって一つの命令だけでよい!\n",
    "後ろの`\\n`はつけるほうが読み込みが早くなる。そういう仕様である。\n",
    "```\n",
    "---example of sentence---\n",
    "read_switch_mode\n",
    "open: 2 3\n",
    "close: 2 3\n",
    "...etc.\n",
    "```"
   ]
  },
  {
   "cell_type": "markdown",
   "metadata": {},
   "source": [
    "## read_switch_mode\n",
    "スイッチの状態を知らせる。命令後読み出しが必要。"
   ]
  },
  {
   "cell_type": "code",
   "execution_count": null,
   "metadata": {},
   "outputs": [],
   "source": [
    "ser.write(b'read_switch_mode\\n')\n",
    "print(ser.readline().decode().rstrip())"
   ]
  },
  {
   "cell_type": "code",
   "execution_count": null,
   "metadata": {},
   "outputs": [],
   "source": [
    "def read_switch_mode():\n",
    "    ser.write(b'read_switch_mode\\n')\n",
    "    result_str = ser.readline().decode().rstrip()\n",
    "    return list(map(int,result_str.split(' ')))\n",
    "\n",
    "read_switch_mode()"
   ]
  },
  {
   "cell_type": "markdown",
   "metadata": {},
   "source": [
    "## read_servo_mode\n",
    "サーボの状態を知らせる。命令後読み出しが必要。"
   ]
  },
  {
   "cell_type": "code",
   "execution_count": null,
   "metadata": {},
   "outputs": [],
   "source": [
    "ser.write(b'read_servo_mode\\n')\n",
    "print(ser.readline().decode().rstrip())"
   ]
  },
  {
   "cell_type": "code",
   "execution_count": null,
   "metadata": {},
   "outputs": [],
   "source": [
    "def read_servo_mode():\n",
    "    ser.write(b'read_servo_mode\\n')\n",
    "    result_str = ser.readline().decode().rstrip()\n",
    "    return list(map(int,result_str.split(' ')))\n",
    "\n",
    "read_servo_mode()"
   ]
  },
  {
   "cell_type": "markdown",
   "metadata": {},
   "source": [
    "## open\n",
    "指定された番号のシャッターを開く。命令後読み出しは不要。読みだしたところで読み出せるものはないので、timeoutまで待機することになる。"
   ]
  },
  {
   "cell_type": "code",
   "execution_count": null,
   "metadata": {},
   "outputs": [],
   "source": [
    "ser.write(b'open: 2 3\\n') # 0,1,2,3 のうち2,3を開く"
   ]
  },
  {
   "cell_type": "code",
   "execution_count": null,
   "metadata": {},
   "outputs": [],
   "source": [
    "def open(target):\n",
    "    buffer = 'open:' + ' '.join(list(map(str,target))) + '\\n'\n",
    "    ser.write(buffer.encode())\n",
    "\n",
    "open([2,3])"
   ]
  },
  {
   "cell_type": "markdown",
   "metadata": {},
   "source": [
    "## close\n",
    "指定された番号のシャッターを閉じる。命令後読み出しは不要。読みだしたところで読み出せるものはないので、timeoutまで待機することになる。"
   ]
  },
  {
   "cell_type": "code",
   "execution_count": null,
   "metadata": {},
   "outputs": [],
   "source": [
    "ser.write(b'close: 2 3\\n') # 0,1,2,3 のうち2,3を閉じる"
   ]
  },
  {
   "cell_type": "code",
   "execution_count": null,
   "metadata": {},
   "outputs": [],
   "source": [
    "def close(target):\n",
    "    buffer = 'close:' + ' '.join(list(map(str,target))) + '\\n'\n",
    "    ser.write(buffer.encode())\n",
    "\n",
    "close([2,3])"
   ]
  },
  {
   "cell_type": "markdown",
   "metadata": {},
   "source": [
    "## set_to_switch\n",
    "指定された番号のシャッターを物理的なスイッチの設定と同期させる。これによって当該チャンネルはPC制御モードから外れる。\n",
    "再び`open` `close`すればPC制御モードになる。"
   ]
  },
  {
   "cell_type": "code",
   "execution_count": null,
   "metadata": {},
   "outputs": [],
   "source": [
    "ser.write(b'set_to_switch: 2 3\\n') # 0,1,2,3 のうち2,3を物理スイッチに同期させる"
   ]
  },
  {
   "cell_type": "code",
   "execution_count": null,
   "metadata": {},
   "outputs": [],
   "source": [
    "def set_to_switch(target):\n",
    "    buffer = 'set_to_switch:' + ' '.join(list(map(str,target))) + '\\n'\n",
    "    ser.write(buffer.encode())\n",
    "    \n",
    "set_to_switch([2,3])"
   ]
  },
  {
   "cell_type": "markdown",
   "metadata": {},
   "source": [
    "## read_serial_num\n",
    "シリアルナンバーを読み込みます。"
   ]
  },
  {
   "cell_type": "code",
   "execution_count": null,
   "metadata": {},
   "outputs": [],
   "source": [
    "ser.write(b'read_serial_num\\n')\n",
    "print(ser.readline().decode().rstrip())"
   ]
  },
  {
   "cell_type": "code",
   "execution_count": null,
   "metadata": {},
   "outputs": [],
   "source": [
    "def read_serial_num():\n",
    "    ser.write(b'read_serial_num\\n')\n",
    "    return ser.readline().decode().rstrip()\n",
    "\n",
    "read_serial_num()"
   ]
  },
  {
   "cell_type": "code",
   "execution_count": null,
   "metadata": {},
   "outputs": [],
   "source": [
    "ser.close()"
   ]
  }
 ],
 "metadata": {
  "kernelspec": {
   "display_name": "Python 3",
   "language": "python",
   "name": "python3"
  },
  "language_info": {
   "codemirror_mode": {
    "name": "ipython",
    "version": 3
   },
   "file_extension": ".py",
   "mimetype": "text/x-python",
   "name": "python",
   "nbconvert_exporter": "python",
   "pygments_lexer": "ipython3",
   "version": "3.9.0"
  }
 },
 "nbformat": 4,
 "nbformat_minor": 4
}
